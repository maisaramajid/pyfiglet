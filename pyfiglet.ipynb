{
 "cells": [
  {
   "cell_type": "code",
   "execution_count": 1,
   "metadata": {},
   "outputs": [
    {
     "name": "stdout",
     "output_type": "stream",
     "text": [
      "+-+-+-+-+-+-+ +-+ +-+-+-+-+ +-+-+-+-+ +-+-+ +-+-+-+ +-+-+-+-+-+-+ +-+-+-+-+-+\n",
      "|H|e|l|l|o|.| |I| |j|u|s|t| |w|a|n|t| |t|o| |t|r|y| |F|i|g|l|e|t| |u|s|i|n|g|\n",
      "+-+-+-+-+-+-+ +-+ +-+-+-+-+ +-+-+-+-+ +-+-+ +-+-+-+ +-+-+-+-+-+-+ +-+-+-+-+-+\n",
      "+-+-+-+-+-+-+\n",
      "|P|y|t|h|o|n|\n",
      "+-+-+-+-+-+-+\n",
      "\n"
     ]
    }
   ],
   "source": [
    "import sys\n",
    "import pyfiglet \n",
    "\n",
    "write= pyfiglet.Figlet(font='digital')\n",
    "print(write.renderText('Hello. I just want to try Figlet using Python'))"
   ]
  },
  {
   "cell_type": "code",
   "execution_count": 2,
   "metadata": {},
   "outputs": [
    {
     "name": "stdout",
     "output_type": "stream",
     "text": [
      " _____ _    _      _       __            __             \n",
      "|_   _| |_ (_)___ (_)___  / _|___ _ _   / _|_  _ _ _    \n",
      "  | | | ' \\| (_-< | (_-< |  _/ _ \\ '_| |  _| || | ' \\ _ \n",
      "  |_| |_||_|_/__/ |_/__/ |_| \\___/_|   |_|  \\_,_|_||_(_)\n",
      "                                                        \n",
      "\n"
     ]
    }
   ],
   "source": [
    "write= pyfiglet.Figlet(font='small')\n",
    "print(write.renderText('This is for fun.'))"
   ]
  },
  {
   "cell_type": "code",
   "execution_count": 3,
   "metadata": {},
   "outputs": [
    {
     "name": "stdout",
     "output_type": "stream",
     "text": [
      " _______ _     _       _       _     _                       \n",
      "|__   __| |   (_)     (_)     | |   (_)                      \n",
      "   | |  | |__  _ ___   _ ___  | |__  _  __ _  __ _  ___ _ __ \n",
      "   | |  | '_ \\| / __| | / __| | '_ \\| |/ _` |/ _` |/ _ \\ '__|\n",
      "   | |  | | | | \\__ \\ | \\__ \\ | |_) | | (_| | (_| |  __/ | _ \n",
      "   |_|  |_| |_|_|___/ |_|___/ |_.__/|_|\\__, |\\__, |\\___|_|(_)\n",
      "                                        __/ | __/ |          \n",
      "                                       |___/ |___/           \n",
      "\n"
     ]
    }
   ],
   "source": [
    "write= pyfiglet.Figlet(font='big')\n",
    "print(write.renderText('This is bigger.'))"
   ]
  },
  {
   "cell_type": "code",
   "execution_count": 4,
   "metadata": {},
   "outputs": [
    {
     "name": "stdout",
     "output_type": "stream",
     "text": [
      "--- -.- .- -.-- .-.-.-    -... -.-- . .-.-.- \n",
      "\n"
     ]
    }
   ],
   "source": [
    "write= pyfiglet.Figlet(font='morse')\n",
    "print(write.renderText('Okay. Bye.'))"
   ]
  },
  {
   "cell_type": "code",
   "execution_count": null,
   "metadata": {},
   "outputs": [],
   "source": []
  }
 ],
 "metadata": {
  "kernelspec": {
   "display_name": "Python 3",
   "language": "python",
   "name": "python3"
  },
  "language_info": {
   "codemirror_mode": {
    "name": "ipython",
    "version": 3
   },
   "file_extension": ".py",
   "mimetype": "text/x-python",
   "name": "python",
   "nbconvert_exporter": "python",
   "pygments_lexer": "ipython3",
   "version": "3.7.1"
  }
 },
 "nbformat": 4,
 "nbformat_minor": 2
}
